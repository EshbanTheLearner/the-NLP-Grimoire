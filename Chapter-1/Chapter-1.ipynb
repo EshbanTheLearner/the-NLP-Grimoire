{
 "cells": [
  {
   "cell_type": "markdown",
   "metadata": {
    "id": "eFiThsSQB8F-"
   },
   "source": [
    "# The NLP Grimoire\n",
    "\n",
    "## Chapter 1 - An Introduction to NLP\n",
    "\n",
    "[![Open In Colab](https://colab.research.google.com/assets/colab-badge.svg)](https://colab.research.google.com/github/EshbanTheLearner/the-NLP-Grimoire/blob/main/Chapter-1/Chapter-1.ipynb)"
   ]
  },
  {
   "cell_type": "code",
   "execution_count": 1,
   "metadata": {
    "colab": {
     "base_uri": "https://localhost:8080/"
    },
    "id": "-Z8EL6txorZ5",
    "outputId": "a5985c97-c72d-4949-ce9b-f89554e58512"
   },
   "outputs": [
    {
     "name": "stdout",
     "output_type": "stream",
     "text": [
      "Collecting polyglot\n",
      "  Downloading polyglot-16.7.4.tar.gz (126 kB)\n",
      "\u001b[K     |████████████████████████████████| 126 kB 18.0 MB/s \n",
      "\u001b[?25hCollecting PyICU\n",
      "  Downloading PyICU-2.8.tar.gz (299 kB)\n",
      "\u001b[K     |████████████████████████████████| 299 kB 43.3 MB/s \n",
      "\u001b[?25h  Installing build dependencies ... \u001b[?25l\u001b[?25hdone\n",
      "  Getting requirements to build wheel ... \u001b[?25l\u001b[?25hdone\n",
      "    Preparing wheel metadata ... \u001b[?25l\u001b[?25hdone\n",
      "Collecting pycld2\n",
      "  Downloading pycld2-0.41.tar.gz (41.4 MB)\n",
      "\u001b[K     |████████████████████████████████| 41.4 MB 1.3 MB/s \n",
      "\u001b[?25hCollecting morfessor\n",
      "  Downloading Morfessor-2.0.6-py3-none-any.whl (35 kB)\n",
      "Building wheels for collected packages: polyglot, PyICU, pycld2\n",
      "  Building wheel for polyglot (setup.py) ... \u001b[?25l\u001b[?25hdone\n",
      "  Created wheel for polyglot: filename=polyglot-16.7.4-py2.py3-none-any.whl size=52577 sha256=58a6afe12a1c4609227fb41c04c0eb763af69b0d15d3034e396fb872d786960c\n",
      "  Stored in directory: /root/.cache/pip/wheels/09/bc/67/75c9de8e9726460bc0b101ad225ad025cb8ce9e0759beb9d52\n",
      "  Building wheel for PyICU (PEP 517) ... \u001b[?25l\u001b[?25hdone\n",
      "  Created wheel for PyICU: filename=PyICU-2.8-cp37-cp37m-linux_x86_64.whl size=1376747 sha256=db7ce9caf533e81182bdae879307fc1fa05d131d79aca0c9d5cb49d9958e7c51\n",
      "  Stored in directory: /root/.cache/pip/wheels/14/bd/45/aeddc643bd0637c14fa27bffaee5b411cdc323f8bec76ad15e\n",
      "  Building wheel for pycld2 (setup.py) ... \u001b[?25l\u001b[?25hdone\n",
      "  Created wheel for pycld2: filename=pycld2-0.41-cp37-cp37m-linux_x86_64.whl size=9834155 sha256=564cfaae813da54e578689cef1ed00861dd3efa4a97fbce89070c50c76f1170b\n",
      "  Stored in directory: /root/.cache/pip/wheels/ed/e4/58/ed2e9f43c07d617cc81fe7aff0fc6e42b16c9cf6afe960b614\n",
      "Successfully built polyglot PyICU pycld2\n",
      "Installing collected packages: PyICU, pycld2, polyglot, morfessor\n",
      "Successfully installed PyICU-2.8 morfessor-2.0.6 polyglot-16.7.4 pycld2-0.41\n",
      "Collecting stanza\n",
      "  Downloading stanza-1.3.0-py3-none-any.whl (432 kB)\n",
      "\u001b[K     |████████████████████████████████| 432 kB 26.5 MB/s \n",
      "\u001b[?25hRequirement already satisfied: protobuf in /usr/local/lib/python3.7/dist-packages (from stanza) (3.17.3)\n",
      "Requirement already satisfied: tqdm in /usr/local/lib/python3.7/dist-packages (from stanza) (4.62.3)\n",
      "Collecting emoji\n",
      "  Downloading emoji-1.6.1.tar.gz (170 kB)\n",
      "\u001b[K     |████████████████████████████████| 170 kB 62.6 MB/s \n",
      "\u001b[?25hRequirement already satisfied: requests in /usr/local/lib/python3.7/dist-packages (from stanza) (2.23.0)\n",
      "Requirement already satisfied: torch>=1.3.0 in /usr/local/lib/python3.7/dist-packages (from stanza) (1.10.0+cu111)\n",
      "Requirement already satisfied: six in /usr/local/lib/python3.7/dist-packages (from stanza) (1.15.0)\n",
      "Requirement already satisfied: numpy in /usr/local/lib/python3.7/dist-packages (from stanza) (1.19.5)\n",
      "Requirement already satisfied: typing-extensions in /usr/local/lib/python3.7/dist-packages (from torch>=1.3.0->stanza) (3.10.0.2)\n",
      "Requirement already satisfied: urllib3!=1.25.0,!=1.25.1,<1.26,>=1.21.1 in /usr/local/lib/python3.7/dist-packages (from requests->stanza) (1.24.3)\n",
      "Requirement already satisfied: chardet<4,>=3.0.2 in /usr/local/lib/python3.7/dist-packages (from requests->stanza) (3.0.4)\n",
      "Requirement already satisfied: idna<3,>=2.5 in /usr/local/lib/python3.7/dist-packages (from requests->stanza) (2.10)\n",
      "Requirement already satisfied: certifi>=2017.4.17 in /usr/local/lib/python3.7/dist-packages (from requests->stanza) (2021.10.8)\n",
      "Building wheels for collected packages: emoji\n",
      "  Building wheel for emoji (setup.py) ... \u001b[?25l\u001b[?25hdone\n",
      "  Created wheel for emoji: filename=emoji-1.6.1-py3-none-any.whl size=169313 sha256=c4a4cd8c7d3c3e998b128f6b19f4b9cf71cb96faa1274f2d625dacae0977b7d8\n",
      "  Stored in directory: /root/.cache/pip/wheels/ea/5f/d3/03d313ddb3c2a1a427bb4690f1621eea60fe6f2a30cc95940f\n",
      "Successfully built emoji\n",
      "Installing collected packages: emoji, stanza\n",
      "Successfully installed emoji-1.6.1 stanza-1.3.0\n"
     ]
    }
   ],
   "source": [
    "!pip install polyglot PyICU pycld2 morfessor\n",
    "!pip install stanza"
   ]
  },
  {
   "cell_type": "code",
   "execution_count": 7,
   "metadata": {
    "colab": {
     "base_uri": "https://localhost:8080/"
    },
    "id": "rTT1jUi3-86N",
    "outputId": "ea99f195-0815-4661-d53c-12e0cf1576cb"
   },
   "outputs": [
    {
     "name": "stdout",
     "output_type": "stream",
     "text": [
      "[nltk_data] Downloading package punkt to /root/nltk_data...\n",
      "[nltk_data]   Package punkt is already up-to-date!\n",
      "[nltk_data] Downloading package wordnet to /root/nltk_data...\n",
      "[nltk_data]   Unzipping corpora/wordnet.zip.\n",
      "[nltk_data] Downloading package averaged_perceptron_tagger to\n",
      "[nltk_data]     /root/nltk_data...\n",
      "[nltk_data]   Package averaged_perceptron_tagger is already up-to-\n",
      "[nltk_data]       date!\n"
     ]
    },
    {
     "data": {
      "text/plain": [
       "True"
      ]
     },
     "execution_count": 7,
     "metadata": {},
     "output_type": "execute_result"
    }
   ],
   "source": [
    "import nltk\n",
    "nltk.download('punkt')\n",
    "nltk.download('wordnet')\n",
    "nltk.download('averaged_perceptron_tagger')"
   ]
  },
  {
   "cell_type": "markdown",
   "metadata": {
    "id": "4zZoRys0Azky"
   },
   "source": [
    "# Lexical Analysis"
   ]
  },
  {
   "cell_type": "markdown",
   "metadata": {
    "id": "JKJaXFUw1fRU"
   },
   "source": [
    "## Tokenization"
   ]
  },
  {
   "cell_type": "code",
   "execution_count": 3,
   "metadata": {
    "colab": {
     "base_uri": "https://localhost:8080/"
    },
    "id": "N8neFPtn1c1l",
    "outputId": "0f07ae58-cda2-4da3-e1c5-a0932e51b59c"
   },
   "outputs": [
    {
     "name": "stdout",
     "output_type": "stream",
     "text": [
      "Word Tokenization\t ['This', 'sentence', 'is', 'an', 'example', 'of', 'tokenization', '.', 'Another', 'example', 'sentence', '!']\n",
      "Sentence Tokenization\t ['This sentence is an example of tokenization.', 'Another example sentence!']\n"
     ]
    }
   ],
   "source": [
    "from nltk.tokenize import word_tokenize\n",
    "from nltk.tokenize import sent_tokenize\n",
    "\n",
    "text = \"This sentence is an example of tokenization. Another example sentence!\"\n",
    "print(\"Word Tokenization\\t\", word_tokenize(text))\n",
    "print(\"Sentence Tokenization\\t\", sent_tokenize(text))"
   ]
  },
  {
   "cell_type": "markdown",
   "metadata": {
    "id": "kneqPNI44WVJ"
   },
   "source": [
    "## Morphological Analysis"
   ]
  },
  {
   "cell_type": "code",
   "execution_count": 4,
   "metadata": {
    "colab": {
     "base_uri": "https://localhost:8080/"
    },
    "id": "1IWrHgwv1cyq",
    "outputId": "ef47d015-713c-4211-ad52-f2c59ddc1fff"
   },
   "outputs": [
    {
     "name": "stdout",
     "output_type": "stream",
     "text": [
      "[polyglot_data] Downloading package morph2.en to\n",
      "[polyglot_data]     /root/polyglot_data...\n",
      "[polyglot_data] Downloading package morph2.ar to\n",
      "[polyglot_data]     /root/polyglot_data...\n",
      "preprocessing       ['pre', 'process', 'ing']\n",
      "processor           ['process', 'or']\n",
      "invaluable          ['in', 'valuable']\n",
      "thankful            ['thank', 'ful']\n",
      "crossed             ['cross', 'ed']\n"
     ]
    }
   ],
   "source": [
    "# Example from https://polyglot.readthedocs.io/en/latest/MorphologicalAnalysis.html\n",
    "!polyglot download morph2.en morph2.ar\n",
    "\n",
    "from polyglot.downloader import downloader\n",
    "from polyglot.text import Text, Word\n",
    "\n",
    "words = [\"preprocessing\", \"processor\", \"invaluable\", \"thankful\", \"crossed\"]\n",
    "for w in words:\n",
    "  w = Word(w, language=\"en\")\n",
    "  print(\"{:<20}{}\".format(w, w.morphemes))"
   ]
  },
  {
   "cell_type": "markdown",
   "metadata": {
    "id": "_92fvygJ6N_u"
   },
   "source": [
    "### Stemming"
   ]
  },
  {
   "cell_type": "code",
   "execution_count": 5,
   "metadata": {
    "colab": {
     "base_uri": "https://localhost:8080/"
    },
    "id": "d8zUfFH96Npb",
    "outputId": "0bf7928d-f653-4495-df8c-11347b27a2d0"
   },
   "outputs": [
    {
     "name": "stdout",
     "output_type": "stream",
     "text": [
      "[nltk_data] Downloading package punkt to /root/nltk_data...\n",
      "[nltk_data]   Package punkt is already up-to-date!\n",
      "Elephants\t -> \teleph\n",
      "are\t -> \tare\n",
      "truly\t -> \ttruli\n",
      "magnificent\t -> \tmagnific\n",
      "creatures\t -> \tcreatur\n"
     ]
    }
   ],
   "source": [
    "import nltk; nltk.download('punkt')\n",
    "from nltk.stem import PorterStemmer\n",
    "\n",
    "stemmer = PorterStemmer()\n",
    "text = \"Elephants are truly magnificent creatures\"\n",
    "for word in text.split(\" \"):\n",
    "  print(f\"{word}\\t -> \\t{stemmer.stem(word)}\")"
   ]
  },
  {
   "cell_type": "markdown",
   "metadata": {
    "id": "a5qs4GeY7mbS"
   },
   "source": [
    "### Lemmatization"
   ]
  },
  {
   "cell_type": "code",
   "execution_count": 8,
   "metadata": {
    "colab": {
     "base_uri": "https://localhost:8080/"
    },
    "id": "pMza6uyJ6Nl3",
    "outputId": "71e812bc-3fae-4ad6-b0d8-4e3350cbcfa7"
   },
   "outputs": [
    {
     "name": "stdout",
     "output_type": "stream",
     "text": [
      "Elephants\t -> \tElephants\n",
      "are\t -> \tare\n",
      "truly\t -> \ttruly\n",
      "magnificent\t -> \tmagnificent\n",
      "creatures\t -> \tcreature\n"
     ]
    }
   ],
   "source": [
    "from nltk.stem import WordNetLemmatizer\n",
    "\n",
    "lemmatizer = WordNetLemmatizer()\n",
    "text = \"Elephants are truly magnificent creatures\"\n",
    "for word in text.split(\" \"):\n",
    "  print(f\"{word}\\t -> \\t{lemmatizer.lemmatize(word)}\")"
   ]
  },
  {
   "cell_type": "markdown",
   "metadata": {
    "id": "-iczIQ27BDMt"
   },
   "source": [
    "# Syntactic Analysis"
   ]
  },
  {
   "cell_type": "markdown",
   "metadata": {
    "id": "HA9PQUnQ83Ik"
   },
   "source": [
    "## Syntactic Parsing"
   ]
  },
  {
   "cell_type": "code",
   "execution_count": 9,
   "metadata": {
    "colab": {
     "base_uri": "https://localhost:8080/"
    },
    "id": "p-EKUaKw1cv2",
    "outputId": "b9100070-e49f-441b-bcec-4ff0546c72b3"
   },
   "outputs": [
    {
     "name": "stdout",
     "output_type": "stream",
     "text": [
      "(S\n",
      "  (NP I)\n",
      "  (VP\n",
      "    (VP (V shot) (NP (Det an) (N elephant)))\n",
      "    (PP (P in) (NP (Det my) (N pajamas)))))\n",
      "(S\n",
      "  (NP I)\n",
      "  (VP\n",
      "    (V shot)\n",
      "    (NP (Det an) (N elephant) (PP (P in) (NP (Det my) (N pajamas))))))\n"
     ]
    }
   ],
   "source": [
    "# Example taken from https://www.nltk.org/book/ch08.html\n",
    "\n",
    "import nltk\n",
    "groucho_grammar = nltk.CFG.fromstring(\"\"\"\n",
    "  S -> NP VP\n",
    "  PP -> P NP\n",
    "  NP -> Det N | Det N PP | 'I'\n",
    "  VP -> V NP | VP PP\n",
    "  Det -> 'an' | 'my'\n",
    "  N -> 'elephant' | 'pajamas'\n",
    "  V -> 'shot'\n",
    "  P -> 'in'\n",
    "\"\"\")\n",
    "\n",
    "sentence = ['I', 'shot', 'an', 'elephant', 'in', 'my', 'pajamas']\n",
    "parser = nltk.ChartParser(groucho_grammar)\n",
    "\n",
    "for tree in parser.parse(sentence):\n",
    "  print(tree)"
   ]
  },
  {
   "cell_type": "markdown",
   "metadata": {
    "id": "rceBY4gq-Hbf"
   },
   "source": [
    "## Parts of Speech Tagging"
   ]
  },
  {
   "cell_type": "code",
   "execution_count": 10,
   "metadata": {
    "colab": {
     "base_uri": "https://localhost:8080/"
    },
    "id": "eh6eozAV-OXg",
    "outputId": "c7ac39d6-fb39-4b0c-cad0-21488dcf047a"
   },
   "outputs": [
    {
     "data": {
      "text/plain": [
       "[('I', 'PRP'),\n",
       " ('completed', 'VBD'),\n",
       " ('my', 'PRP$'),\n",
       " ('assignment', 'NN'),\n",
       " ('while', 'IN'),\n",
       " ('he', 'PRP'),\n",
       " ('was', 'VBD'),\n",
       " ('watching', 'VBG'),\n",
       " ('football', 'NN')]"
      ]
     },
     "execution_count": 10,
     "metadata": {},
     "output_type": "execute_result"
    }
   ],
   "source": [
    "import nltk\n",
    "from nltk.tokenize import word_tokenize\n",
    "text = word_tokenize(\"I completed my assignment while he was watching football\")\n",
    "nltk.pos_tag(text)"
   ]
  },
  {
   "cell_type": "markdown",
   "metadata": {
    "id": "CPsTiELvBJz-"
   },
   "source": [
    "# Semantic Analysis"
   ]
  },
  {
   "cell_type": "markdown",
   "metadata": {
    "id": "8X-tK6TZ_bdO"
   },
   "source": [
    "## Word Sense Disambiguation"
   ]
  },
  {
   "cell_type": "code",
   "execution_count": 11,
   "metadata": {
    "colab": {
     "base_uri": "https://localhost:8080/"
    },
    "id": "Z30YCwT9-OU-",
    "outputId": "bd2a8113-da5c-470a-9d04-c8f7cad8857d"
   },
   "outputs": [
    {
     "name": "stdout",
     "output_type": "stream",
     "text": [
      "Synset('reserve.v.04')\n",
      "\n",
      "All senses of word 'bank'\n",
      "\n",
      "Synset('bank.n.01') sloping land (especially the slope beside a body of water)\n",
      "Synset('depository_financial_institution.n.01') a financial institution that accepts deposits and channels the money into lending activities\n",
      "Synset('bank.n.03') a long ridge or pile\n",
      "Synset('bank.n.04') an arrangement of similar objects in a row or in tiers\n",
      "Synset('bank.n.05') a supply or stock held in reserve for future use (especially in emergencies)\n",
      "Synset('bank.n.06') the funds held by a gambling house or the dealer in some gambling games\n",
      "Synset('bank.n.07') a slope in the turn of a road or track; the outside is higher than the inside in order to reduce the effects of centrifugal force\n",
      "Synset('savings_bank.n.02') a container (usually with a slot in the top) for keeping money at home\n",
      "Synset('bank.n.09') a building in which the business of banking transacted\n",
      "Synset('bank.n.10') a flight maneuver; aircraft tips laterally about its longitudinal axis (especially in turning)\n",
      "Synset('bank.v.01') tip laterally\n",
      "Synset('bank.v.02') enclose with a bank\n",
      "Synset('bank.v.03') do business with a bank or keep an account at a bank\n",
      "Synset('bank.v.04') act as the banker in a game or in gambling\n",
      "Synset('bank.v.05') be in the banking business\n",
      "Synset('deposit.v.02') put into a bank account\n",
      "Synset('bank.v.07') cover with ashes so to control the rate of burning\n",
      "Synset('trust.v.01') have confidence or faith in\n"
     ]
    }
   ],
   "source": [
    "from nltk.wsd import lesk\n",
    "from nltk.corpus import wordnet as wn\n",
    "\n",
    "sentence = \"Can you book the flight for me?\"\n",
    "print(lesk(sentence.split(\" \"), 'book', 'v'))\n",
    "print(\"\\nAll senses of word 'bank'\\n\")\n",
    "for ss in wn.synsets('bank'):\n",
    "   print(ss, ss.definition())"
   ]
  },
  {
   "cell_type": "markdown",
   "metadata": {
    "id": "5Vs6i2klAtJy"
   },
   "source": [
    "# Pragmatic Analysis"
   ]
  },
  {
   "cell_type": "markdown",
   "metadata": {
    "id": "-ODhZEVLBi5I"
   },
   "source": [
    "## Co-Reference Resolution"
   ]
  },
  {
   "cell_type": "code",
   "execution_count": 13,
   "metadata": {
    "colab": {
     "base_uri": "https://localhost:8080/",
     "height": 253,
     "referenced_widgets": [
      "e47766e6c62f4f49a5f8fbdeab1b559e",
      "187746e02c2b47cc8e026476201ceea6",
      "3c8e0b054277465db29c9e9ecd530031",
      "0bd4465005e049d5b510278837528906",
      "9bee663b558849d08f8146725acd73db",
      "c385e8fa884643cf9ebf0dba01b0507a",
      "dcea3483d1a7432cbc7bf222a00e6b06",
      "bfbd5f2791164d289b4e8412e14b31d3",
      "65ee6582fd6a4a50862ef8c2d45f0bd2",
      "a256480bd73b4c439209277a86ebaf1e",
      "255d2b96223b47658d1b8afbc203fae6"
     ]
    },
    "id": "xHutz8UT2Ige",
    "outputId": "5e1b1af8-b739-471e-89d3-1af886bc2f52"
   },
   "outputs": [
    {
     "name": "stderr",
     "output_type": "stream",
     "text": [
      "2022-01-12 20:50:05 INFO: Installing CoreNLP package into ./corenlp...\n"
     ]
    },
    {
     "data": {
      "application/vnd.jupyter.widget-view+json": {
       "model_id": "e47766e6c62f4f49a5f8fbdeab1b559e",
       "version_major": 2,
       "version_minor": 0
      },
      "text/plain": [
       "Downloading https://huggingface.co/stanfordnlp/CoreNLP/resolve/main/stanford-corenlp-latest.zip:   0%|        …"
      ]
     },
     "metadata": {},
     "output_type": "display_data"
    },
    {
     "name": "stderr",
     "output_type": "stream",
     "text": [
      "2022-01-12 20:50:14 WARNING: For customized installation location, please set the `CORENLP_HOME` environment variable to the location of the installation. In Unix, this is done with `export CORENLP_HOME=./corenlp`.\n",
      "2022-01-12 20:50:14 INFO: Writing properties to tmp file: corenlp_server-44578798d544460e.props\n",
      "2022-01-12 20:50:14 INFO: Starting server with command: java -Xmx4G -cp ./corenlp/* edu.stanford.nlp.pipeline.StanfordCoreNLPServer -port 9001 -timeout 60000 -threads 5 -maxCharLength 100000 -quiet True -serverProperties corenlp_server-44578798d544460e.props -annotators coref -preload -outputFormat serialized\n"
     ]
    },
    {
     "name": "stdout",
     "output_type": "stream",
     "text": [
      "Mention                       \tType\n",
      "Barack Obama                  \tPERSON\n",
      "Hawaii                        \tSTATE_OR_PROVINCE\n",
      "president                     \tTITLE\n",
      "2008                          \tDATE\n",
      "He                            \tPERSON\n"
     ]
    }
   ],
   "source": [
    "# Example taken from https://github.com/stanfordnlp/stanza/blob/main/demo/Stanza_CoreNLP_Interface.ipynb\n",
    "\n",
    "import stanza\n",
    "from stanza.server import CoreNLPClient\n",
    "\n",
    "corenlp_dir = './corenlp'\n",
    "stanza.install_corenlp(dir=corenlp_dir)\n",
    "\n",
    "import os\n",
    "os.environ[\"CORENLP_HOME\"] = corenlp_dir\n",
    "\n",
    "with CoreNLPClient(annotators=['coref'], \n",
    "                   memory='4G', endpoint='http://localhost:9001', be_quiet=True) as client:\n",
    "    text = \"Barack Obama was born in Hawaii. He was elected president in 2008.\"\n",
    "    document = client.annotate(text)\n",
    "\n",
    "    print(\"{:30s}\\t{}\".format(\"Mention\", \"Type\"))\n",
    "    for sent in document.sentence:\n",
    "        for m in sent.mentions:\n",
    "            print(\"{:30s}\\t{}\".format(m.entityMentionText, m.entityType))"
   ]
  },
  {
   "cell_type": "code",
   "execution_count": null,
   "metadata": {
    "id": "YqvWnBXiD-ya"
   },
   "outputs": [],
   "source": []
  }
 ],
 "metadata": {
  "colab": {
   "collapsed_sections": [],
   "name": "NLPG-Chap-1.ipynb",
   "provenance": []
  },
  "kernelspec": {
   "display_name": "Python 3",
   "language": "python",
   "name": "python3"
  },
  "language_info": {
   "codemirror_mode": {
    "name": "ipython",
    "version": 3
   },
   "file_extension": ".py",
   "mimetype": "text/x-python",
   "name": "python",
   "nbconvert_exporter": "python",
   "pygments_lexer": "ipython3",
   "version": "3.7.3"
  },
  "widgets": {
   "application/vnd.jupyter.widget-state+json": {
    "0bd4465005e049d5b510278837528906": {
     "model_module": "@jupyter-widgets/controls",
     "model_module_version": "1.5.0",
     "model_name": "FloatProgressModel",
     "state": {
      "_dom_classes": [],
      "_model_module": "@jupyter-widgets/controls",
      "_model_module_version": "1.5.0",
      "_model_name": "FloatProgressModel",
      "_view_count": null,
      "_view_module": "@jupyter-widgets/controls",
      "_view_module_version": "1.5.0",
      "_view_name": "ProgressView",
      "bar_style": "success",
      "description": "",
      "description_tooltip": null,
      "layout": "IPY_MODEL_65ee6582fd6a4a50862ef8c2d45f0bd2",
      "max": 505019533,
      "min": 0,
      "orientation": "horizontal",
      "style": "IPY_MODEL_bfbd5f2791164d289b4e8412e14b31d3",
      "value": 505019533
     }
    },
    "187746e02c2b47cc8e026476201ceea6": {
     "model_module": "@jupyter-widgets/base",
     "model_module_version": "1.2.0",
     "model_name": "LayoutModel",
     "state": {
      "_model_module": "@jupyter-widgets/base",
      "_model_module_version": "1.2.0",
      "_model_name": "LayoutModel",
      "_view_count": null,
      "_view_module": "@jupyter-widgets/base",
      "_view_module_version": "1.2.0",
      "_view_name": "LayoutView",
      "align_content": null,
      "align_items": null,
      "align_self": null,
      "border": null,
      "bottom": null,
      "display": null,
      "flex": null,
      "flex_flow": null,
      "grid_area": null,
      "grid_auto_columns": null,
      "grid_auto_flow": null,
      "grid_auto_rows": null,
      "grid_column": null,
      "grid_gap": null,
      "grid_row": null,
      "grid_template_areas": null,
      "grid_template_columns": null,
      "grid_template_rows": null,
      "height": null,
      "justify_content": null,
      "justify_items": null,
      "left": null,
      "margin": null,
      "max_height": null,
      "max_width": null,
      "min_height": null,
      "min_width": null,
      "object_fit": null,
      "object_position": null,
      "order": null,
      "overflow": null,
      "overflow_x": null,
      "overflow_y": null,
      "padding": null,
      "right": null,
      "top": null,
      "visibility": null,
      "width": null
     }
    },
    "255d2b96223b47658d1b8afbc203fae6": {
     "model_module": "@jupyter-widgets/base",
     "model_module_version": "1.2.0",
     "model_name": "LayoutModel",
     "state": {
      "_model_module": "@jupyter-widgets/base",
      "_model_module_version": "1.2.0",
      "_model_name": "LayoutModel",
      "_view_count": null,
      "_view_module": "@jupyter-widgets/base",
      "_view_module_version": "1.2.0",
      "_view_name": "LayoutView",
      "align_content": null,
      "align_items": null,
      "align_self": null,
      "border": null,
      "bottom": null,
      "display": null,
      "flex": null,
      "flex_flow": null,
      "grid_area": null,
      "grid_auto_columns": null,
      "grid_auto_flow": null,
      "grid_auto_rows": null,
      "grid_column": null,
      "grid_gap": null,
      "grid_row": null,
      "grid_template_areas": null,
      "grid_template_columns": null,
      "grid_template_rows": null,
      "height": null,
      "justify_content": null,
      "justify_items": null,
      "left": null,
      "margin": null,
      "max_height": null,
      "max_width": null,
      "min_height": null,
      "min_width": null,
      "object_fit": null,
      "object_position": null,
      "order": null,
      "overflow": null,
      "overflow_x": null,
      "overflow_y": null,
      "padding": null,
      "right": null,
      "top": null,
      "visibility": null,
      "width": null
     }
    },
    "3c8e0b054277465db29c9e9ecd530031": {
     "model_module": "@jupyter-widgets/controls",
     "model_module_version": "1.5.0",
     "model_name": "HTMLModel",
     "state": {
      "_dom_classes": [],
      "_model_module": "@jupyter-widgets/controls",
      "_model_module_version": "1.5.0",
      "_model_name": "HTMLModel",
      "_view_count": null,
      "_view_module": "@jupyter-widgets/controls",
      "_view_module_version": "1.5.0",
      "_view_name": "HTMLView",
      "description": "",
      "description_tooltip": null,
      "layout": "IPY_MODEL_dcea3483d1a7432cbc7bf222a00e6b06",
      "placeholder": "​",
      "style": "IPY_MODEL_c385e8fa884643cf9ebf0dba01b0507a",
      "value": "Downloading https://huggingface.co/stanfordnlp/CoreNLP/resolve/main/stanford-corenlp-latest.zip: 100%"
     }
    },
    "65ee6582fd6a4a50862ef8c2d45f0bd2": {
     "model_module": "@jupyter-widgets/base",
     "model_module_version": "1.2.0",
     "model_name": "LayoutModel",
     "state": {
      "_model_module": "@jupyter-widgets/base",
      "_model_module_version": "1.2.0",
      "_model_name": "LayoutModel",
      "_view_count": null,
      "_view_module": "@jupyter-widgets/base",
      "_view_module_version": "1.2.0",
      "_view_name": "LayoutView",
      "align_content": null,
      "align_items": null,
      "align_self": null,
      "border": null,
      "bottom": null,
      "display": null,
      "flex": null,
      "flex_flow": null,
      "grid_area": null,
      "grid_auto_columns": null,
      "grid_auto_flow": null,
      "grid_auto_rows": null,
      "grid_column": null,
      "grid_gap": null,
      "grid_row": null,
      "grid_template_areas": null,
      "grid_template_columns": null,
      "grid_template_rows": null,
      "height": null,
      "justify_content": null,
      "justify_items": null,
      "left": null,
      "margin": null,
      "max_height": null,
      "max_width": null,
      "min_height": null,
      "min_width": null,
      "object_fit": null,
      "object_position": null,
      "order": null,
      "overflow": null,
      "overflow_x": null,
      "overflow_y": null,
      "padding": null,
      "right": null,
      "top": null,
      "visibility": null,
      "width": null
     }
    },
    "9bee663b558849d08f8146725acd73db": {
     "model_module": "@jupyter-widgets/controls",
     "model_module_version": "1.5.0",
     "model_name": "HTMLModel",
     "state": {
      "_dom_classes": [],
      "_model_module": "@jupyter-widgets/controls",
      "_model_module_version": "1.5.0",
      "_model_name": "HTMLModel",
      "_view_count": null,
      "_view_module": "@jupyter-widgets/controls",
      "_view_module_version": "1.5.0",
      "_view_name": "HTMLView",
      "description": "",
      "description_tooltip": null,
      "layout": "IPY_MODEL_255d2b96223b47658d1b8afbc203fae6",
      "placeholder": "​",
      "style": "IPY_MODEL_a256480bd73b4c439209277a86ebaf1e",
      "value": " 505M/505M [00:06&lt;00:00, 87.3MB/s]"
     }
    },
    "a256480bd73b4c439209277a86ebaf1e": {
     "model_module": "@jupyter-widgets/controls",
     "model_module_version": "1.5.0",
     "model_name": "DescriptionStyleModel",
     "state": {
      "_model_module": "@jupyter-widgets/controls",
      "_model_module_version": "1.5.0",
      "_model_name": "DescriptionStyleModel",
      "_view_count": null,
      "_view_module": "@jupyter-widgets/base",
      "_view_module_version": "1.2.0",
      "_view_name": "StyleView",
      "description_width": ""
     }
    },
    "bfbd5f2791164d289b4e8412e14b31d3": {
     "model_module": "@jupyter-widgets/controls",
     "model_module_version": "1.5.0",
     "model_name": "ProgressStyleModel",
     "state": {
      "_model_module": "@jupyter-widgets/controls",
      "_model_module_version": "1.5.0",
      "_model_name": "ProgressStyleModel",
      "_view_count": null,
      "_view_module": "@jupyter-widgets/base",
      "_view_module_version": "1.2.0",
      "_view_name": "StyleView",
      "bar_color": null,
      "description_width": ""
     }
    },
    "c385e8fa884643cf9ebf0dba01b0507a": {
     "model_module": "@jupyter-widgets/controls",
     "model_module_version": "1.5.0",
     "model_name": "DescriptionStyleModel",
     "state": {
      "_model_module": "@jupyter-widgets/controls",
      "_model_module_version": "1.5.0",
      "_model_name": "DescriptionStyleModel",
      "_view_count": null,
      "_view_module": "@jupyter-widgets/base",
      "_view_module_version": "1.2.0",
      "_view_name": "StyleView",
      "description_width": ""
     }
    },
    "dcea3483d1a7432cbc7bf222a00e6b06": {
     "model_module": "@jupyter-widgets/base",
     "model_module_version": "1.2.0",
     "model_name": "LayoutModel",
     "state": {
      "_model_module": "@jupyter-widgets/base",
      "_model_module_version": "1.2.0",
      "_model_name": "LayoutModel",
      "_view_count": null,
      "_view_module": "@jupyter-widgets/base",
      "_view_module_version": "1.2.0",
      "_view_name": "LayoutView",
      "align_content": null,
      "align_items": null,
      "align_self": null,
      "border": null,
      "bottom": null,
      "display": null,
      "flex": null,
      "flex_flow": null,
      "grid_area": null,
      "grid_auto_columns": null,
      "grid_auto_flow": null,
      "grid_auto_rows": null,
      "grid_column": null,
      "grid_gap": null,
      "grid_row": null,
      "grid_template_areas": null,
      "grid_template_columns": null,
      "grid_template_rows": null,
      "height": null,
      "justify_content": null,
      "justify_items": null,
      "left": null,
      "margin": null,
      "max_height": null,
      "max_width": null,
      "min_height": null,
      "min_width": null,
      "object_fit": null,
      "object_position": null,
      "order": null,
      "overflow": null,
      "overflow_x": null,
      "overflow_y": null,
      "padding": null,
      "right": null,
      "top": null,
      "visibility": null,
      "width": null
     }
    },
    "e47766e6c62f4f49a5f8fbdeab1b559e": {
     "model_module": "@jupyter-widgets/controls",
     "model_module_version": "1.5.0",
     "model_name": "HBoxModel",
     "state": {
      "_dom_classes": [],
      "_model_module": "@jupyter-widgets/controls",
      "_model_module_version": "1.5.0",
      "_model_name": "HBoxModel",
      "_view_count": null,
      "_view_module": "@jupyter-widgets/controls",
      "_view_module_version": "1.5.0",
      "_view_name": "HBoxView",
      "box_style": "",
      "children": [
       "IPY_MODEL_3c8e0b054277465db29c9e9ecd530031",
       "IPY_MODEL_0bd4465005e049d5b510278837528906",
       "IPY_MODEL_9bee663b558849d08f8146725acd73db"
      ],
      "layout": "IPY_MODEL_187746e02c2b47cc8e026476201ceea6"
     }
    }
   }
  }
 },
 "nbformat": 4,
 "nbformat_minor": 1
}
